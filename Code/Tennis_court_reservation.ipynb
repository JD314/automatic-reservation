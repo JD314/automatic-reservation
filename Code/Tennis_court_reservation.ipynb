{
 "cells": [
  {
   "cell_type": "code",
   "execution_count": 3,
   "metadata": {},
   "outputs": [
    {
     "data": {
      "text/plain": [
       "True"
      ]
     },
     "execution_count": 3,
     "metadata": {},
     "output_type": "execute_result"
    }
   ],
   "source": [
    "import pandas as pd\n",
    "from datetime import datetime\n",
    "from datetime import timedelta\n",
    "import numpy as np\n",
    "\n",
    "# Modulos necesarios para el envio del correo\n",
    "from email.message import EmailMessage  # email: paquete de manejo de correo electrónico\n",
    "import smtplib                                              # smtplib: define un objeto de sesión de cliente SMTP que se puede utilizar para enviar correo a cualquier máquina\n",
    "\n",
    "import os\n",
    "from dotenv import load_dotenv\n",
    "\n",
    "load_dotenv()            "
   ]
  },
  {
   "cell_type": "markdown",
   "metadata": {},
   "source": [
    "## Fecha y registros de reserva\n"
   ]
  },
  {
   "cell_type": "code",
   "execution_count": 2,
   "metadata": {},
   "outputs": [],
   "source": [
    "route = r'..\\Data\\registros.csv'\n",
    "route_users = r'..\\Data\\users.csv'\n",
    "\n",
    "registros = pd.read_csv(route,  parse_dates=['date']) # Obtener los registros históricos con el tipo de dato correcto\n",
    "users = pd.read_csv(route_users)                                # Usuarios para reservar\n",
    "\n",
    "# registros['date'] = registros['date'].dt.strftime('%Y-%m-%d') # Manejar formato de fecha sin hora"
   ]
  },
  {
   "cell_type": "code",
   "execution_count": 77,
   "metadata": {},
   "outputs": [
    {
     "data": {
      "text/plain": [
       "datetime.datetime(2024, 5, 1, 0, 0)"
      ]
     },
     "execution_count": 77,
     "metadata": {},
     "output_type": "execute_result"
    }
   ],
   "source": [
    "# Datos de prueba\n",
    "fecha_str = '01-05-2024'\n",
    "fecha = datetime.strptime(fecha_str, '%d-%m-%Y')\n",
    "fecha"
   ]
  },
  {
   "cell_type": "markdown",
   "metadata": {},
   "source": [
    "#### funciones de consulta"
   ]
  },
  {
   "cell_type": "code",
   "execution_count": 179,
   "metadata": {},
   "outputs": [
    {
     "data": {
      "text/plain": [
       "True"
      ]
     },
     "execution_count": 179,
     "metadata": {},
     "output_type": "execute_result"
    }
   ],
   "source": [
    "# -- funciones de consulta --\n",
    "\n",
    "def consult_reservation_day(date:datetime):\n",
    "    \n",
    "    \"\"\"Dada la fecha consultamos si existen reservas hechas para ese día\n",
    "    input:\n",
    "        date : datetime object\n",
    "    Output: \n",
    "        None or pandas dataframe\"\"\"\n",
    "    \n",
    "    reserves_in_date = registros[registros['date'] == date]\n",
    "    \n",
    "    if reserves_in_date.shape[0] != 0:\n",
    "        return reserves_in_date\n",
    "    \n",
    "    else:\n",
    "        return None\n",
    "    \n",
    "\n",
    "def consult_reservation(date:datetime, hour:int):\n",
    "    \n",
    "    \"\"\"Dada la fecha consultamos si existen reservas hechas para ese día y hora\n",
    "    input:\n",
    "        date : datetime object\n",
    "    Output: \n",
    "        None or pandas dataframe\"\"\"\n",
    "    \n",
    "    reserves_in_date = registros[(registros['date'] == date) & (registros['hour'] == hour)]\n",
    "    \n",
    "    if reserves_in_date.shape[0] != 0:\n",
    "        return True\n",
    "    \n",
    "    else:\n",
    "        return False\n",
    "\n",
    "\n",
    "def consult_future():\n",
    "    \"\"\"Retorna las reservas proximas\"\"\"\n",
    "    return registros[registros['date'] >= datetime.now()]\n",
    "\n",
    "consult_reservation(fecha, 12)"
   ]
  },
  {
   "cell_type": "markdown",
   "metadata": {},
   "source": [
    "#### funciones de transformación"
   ]
  },
  {
   "cell_type": "code",
   "execution_count": 79,
   "metadata": {},
   "outputs": [
    {
     "data": {
      "text/plain": [
       "'Sábado 6 de Abril'"
      ]
     },
     "execution_count": 79,
     "metadata": {},
     "output_type": "execute_result"
    }
   ],
   "source": [
    "# --  funciones de transformación de formato de fecha --\n",
    "\n",
    "def date_to_Nd_d_Nm(fecha):\n",
    "    \"\"\"Dada la fecha la convertimos al formato Nombre día, día, Nombre del mes\n",
    "\n",
    "    input:\n",
    "        date : datetime object\n",
    "        \n",
    "    Output: \n",
    "        date in format: Name_day day de Name_month\n",
    "        \n",
    "    example:\n",
    "    5/05/2024 --> Viernes 5 de Abril\"\"\"\n",
    "\n",
    "    dias_semana = [\"Lunes\", \"Martes\", \"Miércoles\", \"Jueves\", \"Viernes\", \"Sábado\", \"Domingo\"]\n",
    "    meses = [\"Enero\", \"Febrero\", \"Marzo\", \"Abril\", \"Mayo\", \"Junio\", \"Julio\", \"Agosto\", \"Septiembre\", \"Octubre\", \"Noviembre\", \"Diciembre\"]\n",
    "    \n",
    "    dia = dias_semana[ fecha.weekday()]\n",
    "    mes = meses [ fecha.month - 1]\n",
    "\n",
    "    resultado = f'{dia} {fecha.day} de {mes}'\n",
    "    return resultado\n",
    "\n",
    "def strign_to_date(fecha_str:str):\n",
    "    \"\"\"dada una fecha en str en formato %d - %m - %A la convertimos a un objeto datetime\n",
    "    \n",
    "    Input\n",
    "        fecha: str / date in format  %d - %m - %A\n",
    "    \n",
    "    Output\n",
    "        date: datetime object\"\"\"\n",
    "    \n",
    "    return datetime.strptime(fecha_str, '%d-%m-%Y')\n",
    "\n",
    "date_to_Nd_d_Nm(datetime.now())"
   ]
  },
  {
   "cell_type": "markdown",
   "metadata": {},
   "source": [
    "#### funciones útiles"
   ]
  },
  {
   "cell_type": "code",
   "execution_count": 181,
   "metadata": {},
   "outputs": [
    {
     "data": {
      "text/plain": [
       "True"
      ]
     },
     "execution_count": 181,
     "metadata": {},
     "output_type": "execute_result"
    }
   ],
   "source": [
    "def week_day_to_day(this_week:bool, day:str):\n",
    "    \"\"\"\"Conocido si se quiere reservar para esta semana o la siguiente y el día de reserva, retorna el día en formato datetime\n",
    "    \n",
    "    Input\n",
    "        this_week: bool / valor si se quiere reservar esta (True) o la siguiente semana (Falsee)\n",
    "        day: str / Inicial del día de la semana en [\"L\", \"M\", \"W\", \"J\", \"V\", \"S\", \"D\"]\n",
    "        \n",
    "    Output\n",
    "        día_reserva: datetime object\n",
    "    \"\"\"\n",
    "\n",
    "    keys_num = { 'L': 0,  'M': 1, 'W': 2, 'J': 3, 'V': 4, 'S': 5, 'D': 6,}    # Valor de cada día de la semana\n",
    "    dias_semana = [\"L\", \"M\", \"W\", \"J\", \"V\", \"S\", \"D\"]\n",
    "\n",
    "    today = datetime.now()\n",
    "\n",
    "    key_today = today.weekday()\n",
    "    left_days = keys_num[day] - key_today  # Cuantos dias faltan para efectuar la reserva, si es (-) significa que ya ese día de esta semana paso\n",
    "\n",
    "    if this_week and left_days >= 0:\n",
    "        # Reservas para semana actual, sin que sea Domingo (left_days != 0)\n",
    "\n",
    "        until_that = keys_num[day] - key_today             # Cantidad de días hasta que eso pase\n",
    "        day_ro_reserve = today + timedelta(until_that) # día de la reserva\n",
    "\n",
    "        # Normalize date format\n",
    "        day_ro_reserve = day_ro_reserve.strftime('%Y-%m-%d')\n",
    "        day_ro_reserve = datetime.strptime(day_ro_reserve, '%Y-%m-%d')\n",
    "\n",
    "        return day_ro_reserve\n",
    "\n",
    "    elif not(this_week) or (this_week and left_days <= 0):\n",
    "        # Reservas para la siguiente semana, o en caso de que se reserve intente reservar días después\n",
    "\n",
    "        week_left = 6 - key_today                               # Días para que se acabe la semana \n",
    "        until_that = week_left + keys_num[day] + 1   # Cantidad de días para efectuar la reserva\n",
    "\n",
    "        day_ro_reserve = today + timedelta(until_that) # día de la reserva\n",
    "\n",
    "        # Normalize date format\n",
    "        day_ro_reserve = day_ro_reserve.strftime('%Y-%m-%d')\n",
    "        day_ro_reserve = datetime.strptime(day_ro_reserve, '%Y-%m-%d')\n",
    "\n",
    "        return day_ro_reserve\n",
    "\n",
    "week_day_to_day(False, 'V')\n",
    "consult_reservation(week_day_to_day(False, 'V'), 17)\n"
   ]
  },
  {
   "cell_type": "code",
   "execution_count": 81,
   "metadata": {},
   "outputs": [
    {
     "data": {
      "text/plain": [
       "'Buenos días, espero se encuentren bien, me gustaría reservar una cancha de Tenis para el siguiente horario\\n\\nEspacio solicitado: Cancha de tenis\\nNombre: José David Bernal Restrepo\\nDocumento: CC 1018342557\\nFecha: Miércoles 1 de Mayo\\nHorario: 12:00 - 13:00\\nAsistentes: 2\\nFacultad: Ciencias Exactas y Naturales\\nObjetivo: Recreacional\\nTeléfono: 3044717739\\n\\nMuchas gracias.'"
      ]
     },
     "execution_count": 81,
     "metadata": {},
     "output_type": "execute_result"
    }
   ],
   "source": [
    "# Función para crear el cuerpo del correo, rellenando los datos de usuario y fecha\n",
    "\n",
    "def texto_reserva(fecha:datetime,  hora:int, user_index=0):\n",
    "    \"\"\"A partir de la plantilla de las reservas, dados los datos de usuario, fecha y hora, \n",
    "    creamos el cuerpo del correo para la reserva de la cancha\n",
    "    \n",
    "    input\n",
    "        fecha: datetime object / (fecha en la que se quiere reservar el espacio)\n",
    "        hora: int / (hora a la que se quiere reservar el espacio)\n",
    "        user_index: int (usuario quien pide la reserva, por default usuario principal (user_index = 0))\n",
    "        \n",
    "    Output\n",
    "        mail_body: string\"\"\"\n",
    "    \n",
    "    with open('../Data/plantilla.txt', 'r', encoding=\"utf-8\") as plantilla:\n",
    "        reserva = plantilla.read()  # Guaradar copia de la plantilla para rellenar campos\n",
    "    \n",
    "    # Campos del usuario\n",
    "    nombre = users.loc[user_index, 'nombre']\n",
    "    documento = users.loc[user_index, 'documento']\n",
    "    telefono = users.loc[user_index, 'telefono']\n",
    "\n",
    "    # Campos temporales\n",
    "    fecha = date_to_Nd_d_Nm(fecha)\n",
    "    hora = f'{hora}:00 - {hora+1}:00'\n",
    "\n",
    "    body = reserva.format(nombre, documento, fecha, hora, telefono)\n",
    "\n",
    "    return body\n",
    "\n",
    "texto_reserva(fecha, 12, 0)"
   ]
  },
  {
   "cell_type": "markdown",
   "metadata": {},
   "source": [
    "## Envio de correo\n"
   ]
  },
  {
   "cell_type": "code",
   "execution_count": null,
   "metadata": {},
   "outputs": [
    {
     "name": "stdout",
     "output_type": "stream",
     "text": [
      "El correo se ha enviado\n"
     ]
    }
   ],
   "source": [
    "\n",
    "def enviar_correo(fecha, hora, user_index):\n",
    "     \n",
    "    \"\"\"A partir de los datos de usuario, fecha y hora, enviamos el correo electronico para solicitar la reserva de la cancha\n",
    "    \n",
    "    input\n",
    "        fecha: datetime object / (fecha en la que se quiere reservar el espacio)\n",
    "        hora: int / (hora a la que se quiere reservar el espacio)\n",
    "        user_index: int (usuario quien pide la reserva, por default usuario principal (user_index = 0))\n",
    "        \n",
    "    Output\n",
    "       Message:  'Mail has been sent'\"\"\"\n",
    "     \n",
    "    remitente = users.loc[user_index, 'correo']\n",
    "    destinatario = \"david.brpo@hotmail.com\"\n",
    "\n",
    "    mensaje = texto_reserva(fecha, hora, user_index)\n",
    "\n",
    "    # Creación del objeto EmailMessage\n",
    "    email = EmailMessage()\n",
    "\n",
    "    # -- Estructura del correo ---\n",
    "\n",
    "    email[\"From\"] = remitente                                       # De:\n",
    "    email[\"To\"] = destinatario                                        # Para: \n",
    "    email[\"Subject\"] = \"Reserva cancha de Tenis\"         # Asunto\n",
    "    email.set_content(mensaje)                                     # Cuerpo del correo\n",
    "\n",
    "\n",
    "    # -- Enviar correo utilizando el protocolo SMTP --\n",
    "\n",
    "    smtp = smtplib.SMTP_SSL(\"smtp.gmail.com\")                            # Crea una conexión SSL con el servidor SMTP  de Gmail\n",
    "    smtp.login(remitente, users.loc[0, 'contraseña'] )                        # Inicio de sesión en el servidor\n",
    "    smtp.sendmail(remitente, destinatario, email.as_string())           # Envio del correo\n",
    "\n",
    "    smtp.quit()                                                                                   # Cerrar conexión con el servidor\n",
    "\n",
    "    print('El correo se ha enviado')\n",
    "\n",
    "enviar_correo(fecha, 15, 0)\n"
   ]
  },
  {
   "cell_type": "code",
   "execution_count": 164,
   "metadata": {},
   "outputs": [
    {
     "name": "stderr",
     "output_type": "stream",
     "text": [
      "C:\\Users\\57311\\AppData\\Local\\Temp\\ipykernel_23272\\294210360.py:6: FutureWarning: The frame.append method is deprecated and will be removed from pandas in a future version. Use pandas.concat instead.\n",
      "  registros = registros.append(nueva_fila,ignore_index=True)\n"
     ]
    }
   ],
   "source": [
    "def agregar_registro(fecha, hora):\n",
    "\n",
    "    global registros\n",
    "    nueva_fila = {'date':fecha, 'hour':hora, 'email_sent':True, 'reserve':True}\n",
    "    \n",
    "    registros = registros.append(nueva_fila,ignore_index=True)\n",
    "    registros.to_csv(route,  index=False) # Guardar registro\n",
    "\n",
    "today = strign_to_date('6-4-2024')\n",
    "\n",
    "agregar_registro(today + timedelta(11), 12)"
   ]
  },
  {
   "cell_type": "code",
   "execution_count": 169,
   "metadata": {},
   "outputs": [
    {
     "name": "stdout",
     "output_type": "stream",
     "text": [
      "\u001b[0;37mEstablecer reserva para el : Viernes 12 de Abril a las 17:00\n",
      "\u001b[0;31mWarning: Ya se ha realizado reserva para esa fecha y hora\n"
     ]
    }
   ],
   "source": [
    "def reservar(fecha, hora):\n",
    "\n",
    "    # -- Casos para evitar reserva --\n",
    "\n",
    "    if fecha <= datetime.today(): # Reserva pasada\n",
    "        print(chr(27)+'[0;31mWarning: No se reserva para ayer :c')\n",
    "        return None\n",
    "    \n",
    "    if fecha.weekday() == 6: # Reserva domingo\n",
    "        print(chr(27)+'[0;31mWarning: No se reservan domingos :c')\n",
    "        return None\n",
    "    \n",
    "    if not( hora in range(8, 19)): # Advertencia por si se intenta reservar en un horario no adecuado\n",
    "        print(chr(27)+'[0;31mWarning: hora en rango de reservas no adecuado )')\n",
    "\n",
    "        seguir = input('Quieres continuar? (Y/N): ')    \n",
    "\n",
    "        if seguir == 'N' or seguir == 'n':                  # No continuar\n",
    "            print(chr(27)+'[0;37m Reserva cancelada')\n",
    "            return None\n",
    "        \n",
    "        elif seguir == 'Y' or seguir == 'y': pass       # Continuar\n",
    "\n",
    "        else: return None                                        # No continuar\n",
    "\n",
    "\n",
    "    print(chr(27)+f'[0;37mEstablecer reserva para el : {date_to_Nd_d_Nm(fecha)} a las {hora}:00')\n",
    "    \n",
    "    if consult_reservation(fecha, hora):                # Consulta si ya existe reserva para ese momento\n",
    "        print(chr(27)+'[0;31mWarning: Ya se ha realizado reserva para esa fecha y hora')\n",
    "        return None\n",
    "        \n",
    "    seguir = input('Quieres continuar? (Y/N): ')    \n",
    "\n",
    "    # Escoger usuario \n",
    "    user_index = 0\n",
    "\n",
    "    if seguir == 'N' or seguir == 'n':                  # No reservar\n",
    "        print(chr(27)+'[0;37m Reserva cancelada')\n",
    "        return None\n",
    "        \n",
    "    elif seguir == 'Y' or seguir == 'y':                # Reservar\n",
    "        # Efectuar la reserva\n",
    "        \n",
    "        enviar_correo(fecha, hora, user_index)\n",
    "        agregar_registro(fecha, hora)\n",
    "        print(chr(27)+'[0;32mPetición de Reserva realizada con éxito')\n",
    "\n",
    "        # except:\n",
    "        #     print(chr(27)+'[0;37m Ha ocurrido un error, comuniquese con soporte')\n",
    "        #     return None\n",
    "\n",
    "    else: return None                                        # No reservar\n",
    "\n",
    "    \n",
    "reservar(strign_to_date('12-4-2024'), 17)"
   ]
  },
  {
   "cell_type": "markdown",
   "metadata": {},
   "source": [
    "## Interfaz\n"
   ]
  },
  {
   "cell_type": "code",
   "execution_count": 117,
   "metadata": {},
   "outputs": [
    {
     "data": {
      "text/plain": [
       "True"
      ]
     },
     "execution_count": 117,
     "metadata": {},
     "output_type": "execute_result"
    }
   ],
   "source": [
    "while True:\n",
    "\n",
    "    print(chr(27)+'[1;36m\\n\\nWelcome to ARC (Automatizador de Reservas de Cancha )\\n')\n",
    "    print(chr(27) + '[0;37mMenú de opciones\\n1) Consultar reservas\\n2) Reservar Cancha\\nx) Salir')\n",
    "\n",
    "    opcion = input('Seleccion una opción: ')\n",
    "    \n",
    "    if opcion == '1': # Consultar reservas\n",
    "        print(chr(27) + '[0;37m\\nConsulta de:\\n1)Reservas futuras\\n2)Reserva específica\\n')\n",
    "        opcion_reservas = input('Seleccion una opción: ')\n",
    "\n",
    "\n",
    "        if opcion_reservas == '1': # Reservas futuras\n",
    "            print(consult_future())\n",
    "            break\n",
    "\n",
    "        elif opcion_reservas == '2': # Reserva día especifico\n",
    "            day = input('Digite el día en formato (%D / %M / %A): ')\n",
    "\n",
    "            try: \n",
    "                day = strign_to_date(day)\n",
    "                print(consult_reservation_day(day))\n",
    "                break\n",
    "\n",
    "            except:\n",
    "                print(chr(27) + '[0;31mNo se ha ingresado la fecha en el formato adecuado')\n",
    "\n",
    "    elif opcion == '2': # Reservar\n",
    "        print(chr(27) + '[0;37m\\nReserva para\\n1) Esta semana\\n2) Proxima semana\\n3) Seleccionar día')\n",
    "\n",
    "        opcion_reserva = input('Seleccion una opción: ')\n",
    "\n",
    "        if opcion_reserva == '1': # Reserva esta semana\n",
    "            day = input('Selecciona el día de la semana ( [L]   [M]   [W]   [J]   [V]   [S]   [D]): ')\n",
    "\n",
    "            if day in [\"L\", \"M\", \"W\", \"J\", \"V\", \"S\", \"D\"]:\n",
    "                fecha = week_day_to_day(True, day)\n",
    "                hora = int(input('¿A qué hora vamos a jugar (24h format): ?'))\n",
    "\n",
    "                reservar(fecha, hora)\n",
    "                break\n",
    "\n",
    "            else:\n",
    "                print(chr(27) + '[0;31mError')\n",
    "                \n",
    "\n",
    "        elif opcion_reserva == '2': # Reserva la siguiente semana \n",
    "\n",
    "            day = input('Selecciona el día de la semana ( [L]   [M]   [W]   [J]   [V]   [S]   [D]): ')\n",
    "\n",
    "            if day in [\"L\", \"M\", \"W\", \"J\", \"V\", \"S\", \"D\"]:\n",
    "                fecha = week_day_to_day(False, day)\n",
    "                hora = int(input('A qué hora vamos a jugar (24h format): '))\n",
    "\n",
    "                reservar(fecha, hora)\n",
    "                break\n",
    "                \n",
    "            else:\n",
    "                print(chr(27) + '[0;31mError')\n",
    "                \n",
    "            \n",
    "        elif opcion_reserva == '3': # Reserva para un día especifico \n",
    "            day = input('¿Qué día quieres reservar? format( %d - %m - %A): ')\n",
    "\n",
    "            try: \n",
    "\n",
    "                fecha = strign_to_date(day)\n",
    "                hora = int(input('A qué hora vamos a jugar (24h format): '))\n",
    "\n",
    "                reservar(fecha, hora)\n",
    "                print(chr(27) + '[0;37m')\n",
    "            \n",
    "            except:\n",
    "                print(chr(27) + '[0;31mError')\n",
    "\n",
    "\n",
    "    elif opcion == 'ex' or opcion == 'x':\n",
    "        break\n"
   ]
  }
 ],
 "metadata": {
  "kernelspec": {
   "display_name": "Python 3",
   "language": "python",
   "name": "python3"
  },
  "language_info": {
   "codemirror_mode": {
    "name": "ipython",
    "version": 3
   },
   "file_extension": ".py",
   "mimetype": "text/x-python",
   "name": "python",
   "nbconvert_exporter": "python",
   "pygments_lexer": "ipython3",
   "version": "3.10.1"
  }
 },
 "nbformat": 4,
 "nbformat_minor": 2
}
